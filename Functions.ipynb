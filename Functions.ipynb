{
  "nbformat": 4,
  "nbformat_minor": 0,
  "metadata": {
    "colab": {
      "provenance": []
    },
    "kernelspec": {
      "name": "python3",
      "display_name": "Python 3"
    },
    "language_info": {
      "name": "python"
    }
  },
  "cells": [
    {
      "cell_type": "code",
      "execution_count": null,
      "metadata": {
        "id": "0tkaJUp_Djf9"
      },
      "outputs": [],
      "source": []
    },
    {
      "cell_type": "markdown",
      "source": [
        "**Theory Questions:**\n",
        "\n",
        "Q.1 What is the difference between a function and a method in Python?\n",
        "Ans- In Python, a function is a block of reusable code defined using the def keyword, which can be called independently by its name. A method is a function that is associated with an object and is defined within a class. It operates on the data contained within the class and is called on an instance of that class.\n",
        "Example:\n",
        "# Function\n",
        "def greet(name):\n",
        "    print(f\"Hello, {name}!\")\n",
        "\n",
        "greet(\"Alice\")  # Output: Hello, Alice!\n",
        "\n",
        "# Method\n",
        "class Person:\n",
        "    def __init__(self, name):\n",
        "        self.name = name\n",
        "\n",
        "    def greet(self):\n",
        "        print(f\"Hello, {self.name}!\")\n",
        "\n",
        "person = Person(\"Alice\")\n",
        "person.greet()  # Output: Hello, Alice!\n",
        "\n",
        "Q.2  Explain the concept of function arguments and parameters in Python?\n",
        "Ans -In Python, function parameters and arguments are fundamental concepts that define how functions receive and utilize input:\n",
        "\n",
        "Function Parameters: These are the variables listed inside the parentheses in a function definition. They act as placeholders for the values that will be provided when the function is called.\n",
        "Example:\n",
        "def greet(name):  # 'name' is a parameter\n",
        "    print(f\"Hello, {name}!\")\n",
        "\n",
        "Function Arguments: These are the actual values or data you pass to the function when calling it. They replace the parameters defined in the function.\n",
        "Example:\n",
        "greet(\"Alice\")  # \"Alice\" is an argument\n",
        "\n",
        "In this example, name is a parameter of the greet function, and \"Alice\" is the argument passed to it during the function call.\n",
        "\n",
        "Q.3 What are the different ways to define and call a function in Python?\n",
        "Ans- In Python, functions are defined using the def keyword, followed by the function name and parentheses. They can be called by their name, optionally passing arguments within the parentheses.\n",
        "Example:\n",
        "# Define a function\n",
        "def greet(name):\n",
        "    print(f\"Hello, {name}!\")\n",
        "\n",
        "# Call the function\n",
        "greet(\"Alice\")  # Output: Hello, Alice!\n",
        "\n",
        "Q.4  What is the purpose of the `return` statement in a Python function?\n",
        "Ans-In Python, the return statement is used to exit a function and optionally pass an expression back to the caller. This allows functions to produce output that can be used elsewhere in the program.\n",
        "Example:\n",
        "def add(a, b):\n",
        "    result = a + b\n",
        "    return result\n",
        "\n",
        "sum_value = add(3, 5)\n",
        "print(sum_value)  # Output: 8\n",
        "\n",
        "In this example, the add function computes the sum of a and b, then returns the result. The returned value is stored in sum_value and printed.\n",
        "\n",
        "If a function does not have a return statement, it returns None by default.\n",
        "\n",
        "Q.5 What are iterators in Python and how do they differ from iterables?\n",
        "Ans- In Python, iterables and iterators are fundamental concepts for traversing data:\n",
        "\n",
        "Iterable: An object capable of returning its members one at a time, permitting iteration over its elements. Examples include lists, tuples, and dictionaries. These objects implement the __iter__() method, which returns an iterator.\n",
        "\n",
        "Iterator: An object representing a stream of data; it returns the next item in the sequence when the __next__() method is called. Iterators are created from iterables and maintain the state of the iteration\n",
        "Example:\n",
        "# Iterable\n",
        "my_list = [1, 2, 3]\n",
        "\n",
        "# Create an iterator from the iterable\n",
        "my_iterator = iter(my_list)\n",
        "\n",
        "# Iterate through the iterator\n",
        "print(next(my_iterator))  # Output: 1\n",
        "print(next(my_iterator))  # Output: 2\n",
        "print(next(my_iterator))  # Output: 3\n",
        "\n",
        "Q.6 Explain the concept of generators in Python and how they are defined?\n",
        "Ans- In Python, generators are a type of iterable, like lists or tuples, but unlike these data structures, they generate items on the fly and yield them one at a time, which is more memory-efficient.\n",
        "\n",
        "Defining a Generator:\n",
        "Generators are defined using functions with the yield keyword. When called, they return a generator object that can be iterated over.\n",
        "Example:\n",
        "def count_up_to(n):\n",
        "    count = 1\n",
        "    while count <= n:\n",
        "        yield count\n",
        "        count += 1\n",
        "\n",
        "for number in count_up_to(5):\n",
        "    print(number)\n",
        "\n",
        "Q.7 What are the advantages of using generators over regular functions?\n",
        "Ans- Generators in Python offer several advantages over regular functions:\n",
        "\n",
        "Memory Efficiency: Generators yield items one at a time and only as needed, which is more memory-efficient than generating and storing an entire sequence at once.\n",
        "\n",
        "Lazy Evaluation: Generators compute values on the fly, allowing for the processing of large datasets or streams without loading the entire dataset into memory.\n",
        "\n",
        "Representing Infinite Streams: Generators can represent infinite sequences, such as data streams, without consuming infinite memory.\n",
        "\n",
        "Q.8 What is a lambda function in Python and when is it typically used?\n",
        "Ans- In Python, a lambda function is a small, anonymous function defined using the lambda keyword. It can take any number of arguments but can only have one expression. Lambda functions are typically used for short-term, simple operations where defining a full function is unnecessary.\n",
        "Example:\n",
        "# Regular function\n",
        "def add(x, y):\n",
        "    return x + y\n",
        "\n",
        "# Lambda function\n",
        "add_lambda = lambda x, y: x + y\n",
        "\n",
        "print(add(2, 3))        # Output: 5\n",
        "print(add_lambda(2, 3))  # Output: 5\n",
        "\n",
        "Q.9 Explain the purpose and usage of the map() function in Python?\n",
        "Ans- In Python, the map() function applies a specified function to each item in an iterable (such as a list or tuple) and returns a map object (an iterator) containing the results.\n",
        "Syntax:\n",
        "map(function, iterable)\n",
        "\n",
        "Example:\n",
        "def square(x):\n",
        "    return x * x\n",
        "\n",
        "numbers = [1, 2, 3, 4, 5]\n",
        "squared_numbers = map(square, numbers)\n",
        "print(list(squared_numbers))  # Output: [1, 4, 9, 16, 25]\n",
        "\n",
        "Q.10 What is the difference between `map()`, `reduce()`, and `filter()` functions in Python?\n",
        "Ans-  n Python, map(), filter(), and reduce() are higher-order functions used for processing iterables:\n",
        "\n",
        "map(function, iterable): Applies function to each item in iterable, returning an iterator of results.\n",
        "Example:\n",
        "def square(x):\n",
        "    return x * x\n",
        "\n",
        "numbers = [1, 2, 3, 4, 5]\n",
        "squared_numbers = map(square, numbers)\n",
        "print(list(squared_numbers))  # Output: [1, 4, 9, 16, 25]\n",
        "\n",
        "\n",
        "filter(function, iterable): Filters items in iterable where function returns True, returning an iterator of the filtered items.\n",
        "Example:\n",
        "def is_even(x):\n",
        "    return x % 2 == 0\n",
        "\n",
        "numbers = [1, 2, 3, 4, 5]\n",
        "even_numbers = filter(is_even, numbers)\n",
        "print(list(even_numbers))  # Output: [2, 4]\n",
        "\n",
        "reduce(function, iterable[, initializer]): Applies function cumulatively to items in iterable, reducing them to a single value. Note: reduce() is in the functools module.\n",
        "Example:\n",
        "from functools import reduce\n",
        "\n",
        "def multiply(x, y):\n",
        "    return x * y\n",
        "\n",
        "numbers = [1, 2, 3, 4, 5]\n",
        "product = reduce(multiply, numbers)\n",
        "print(product)  # Output: 120\n",
        "\n",
        "Q.11 Using pen & Paper write the internal mechanism for sum operation using  reduce function on this given\n",
        "list:[47,11,42,13]?\n",
        "Ans:\n",
        "from functools import reduce\n",
        "def add(x, y):\n",
        "    return x + y\n",
        "numbers = [47, 11, 42, 13]\n",
        "total = reduce(add, numbers)\n",
        "\n",
        "Internal Mechanism:\n",
        "The reduce() function applies the add function cumulatively to the items in the list:\n",
        "\n",
        "First Iteration:\n",
        "\n",
        "x = 47 (first element)\n",
        "y = 11 (second element)\n",
        "add(47, 11) returns 58\n",
        "Intermediate result: 58\n",
        "Second Iteration:\n",
        "\n",
        "x = 58 (result from previous iteration)\n",
        "y = 42 (third element)\n",
        "add(58, 42) returns 100\n",
        "Intermediate result: 100\n",
        "Third Iteration:\n",
        "\n",
        "x = 100 (result from previous iteration)\n",
        "y = 13 (fourth element)\n",
        "add(100, 13) returns 113\n",
        "Final result: 113\n",
        "Thus, the sum of the list [47, 11, 42, 13] is 113.\n"
      ],
      "metadata": {
        "id": "VvunI3INDx8S"
      }
    },
    {
      "cell_type": "code",
      "source": [
        "# PRACTICAL QUESTIONS:\n",
        "\n",
        "# # Q.1  Write a Python function that takes a list of numbers as input and returns the sum of all even numbers in\n",
        "# the list?\n",
        "def sum_even_numbers(numbers):\n",
        "    total = 0\n",
        "    for num in numbers:\n",
        "        if num % 2 == 0:\n",
        "            total += num\n",
        "    return total\n",
        "numbers = [47, 22, 42, 13]\n",
        "result = sum_even_numbers(numbers)\n",
        "print(result)\n"
      ],
      "metadata": {
        "colab": {
          "base_uri": "https://localhost:8080/"
        },
        "id": "kZne5HguMWK3",
        "outputId": "8da9f26e-4711-4827-d582-8f138ef2fb8a"
      },
      "execution_count": 4,
      "outputs": [
        {
          "output_type": "stream",
          "name": "stdout",
          "text": [
            "64\n"
          ]
        }
      ]
    },
    {
      "cell_type": "code",
      "source": [
        "# Q.2  Create a Python function that accepts a string and returns the reverse of that string?\n",
        "def reverse_string(s):\n",
        "    return s[::-1]\n",
        "input_string = \"Hello, World!\"\n",
        "reversed_string = reverse_string(input_string)\n",
        "print(reversed_string)"
      ],
      "metadata": {
        "colab": {
          "base_uri": "https://localhost:8080/"
        },
        "id": "bqyEYxyyNV4c",
        "outputId": "ee5bce65-dcf4-4fb4-9052-db9ef2046666"
      },
      "execution_count": 5,
      "outputs": [
        {
          "output_type": "stream",
          "name": "stdout",
          "text": [
            "!dlroW ,olleH\n"
          ]
        }
      ]
    },
    {
      "cell_type": "code",
      "source": [
        "# Q.3  Implement a Python function that takes a list of integers and returns a new list containing the squares of\n",
        "# each number.\n",
        "def square_numbers(numbers):\n",
        "    return [num ** 2 for num in numbers]\n",
        "numbers = [1, 2, 3, 4, 5]\n",
        "squared_numbers = square_numbers(numbers)\n",
        "print(squared_numbers)"
      ],
      "metadata": {
        "colab": {
          "base_uri": "https://localhost:8080/"
        },
        "id": "tBEUdt7RN1JO",
        "outputId": "32eefb3b-1dcc-4bab-dc7f-c41f5ad1dd7d"
      },
      "execution_count": 6,
      "outputs": [
        {
          "output_type": "stream",
          "name": "stdout",
          "text": [
            "[1, 4, 9, 16, 25]\n"
          ]
        }
      ]
    },
    {
      "cell_type": "code",
      "source": [
        "# Q.4  Write a Python function that checks if a given number is prime or not from 1 to 200.\n",
        "def is_prime(n):\n",
        "    if n <= 1:\n",
        "        return False\n",
        "    for i in range(2, int(n**0.5) + 1):\n",
        "        if n % i == 0:\n",
        "            return False\n",
        "    return True\n",
        "number = 29\n",
        "if is_prime(number):\n",
        "    print(f\"{number} is a prime number.\")\n",
        "else:\n",
        "    print(f\"{number} is not a prime number.\")\n"
      ],
      "metadata": {
        "colab": {
          "base_uri": "https://localhost:8080/"
        },
        "id": "IQgMzOmyOMQL",
        "outputId": "c4fe1999-cbfd-4a46-e175-f38ae36b05dd"
      },
      "execution_count": 7,
      "outputs": [
        {
          "output_type": "stream",
          "name": "stdout",
          "text": [
            "29 is a prime number.\n"
          ]
        }
      ]
    },
    {
      "cell_type": "code",
      "source": [
        "# Q.5  Create an iterator class in Python that generates the Fibonacci sequence up to a specified number of\n",
        "# terms?\n",
        "class FibonacciIterator:\n",
        "    def __init__(self, terms):\n",
        "        self.terms = terms\n",
        "        self.count = 0\n",
        "        self.a, self.b = 0, 1\n",
        "\n",
        "    def __iter__(self):\n",
        "        return self\n",
        "\n",
        "    def __next__(self):\n",
        "        if self.count >= self.terms:\n",
        "            raise StopIteration\n",
        "        self.count += 1\n",
        "        self.a, self.b = self.b, self.a + self.b\n",
        "        return self.a\n",
        "# Create an iterator for the first 10 Fibonacci numbers\n",
        "fib_iter = FibonacciIterator(10)\n",
        "\n",
        "# Iterate through the Fibonacci numbers\n",
        "for num in fib_iter:\n",
        "    print(num)\n"
      ],
      "metadata": {
        "colab": {
          "base_uri": "https://localhost:8080/"
        },
        "id": "8hQ_fERcOqYD",
        "outputId": "f65abad7-2344-4dfb-e2e2-552214863a83"
      },
      "execution_count": 8,
      "outputs": [
        {
          "output_type": "stream",
          "name": "stdout",
          "text": [
            "1\n",
            "1\n",
            "2\n",
            "3\n",
            "5\n",
            "8\n",
            "13\n",
            "21\n",
            "34\n",
            "55\n"
          ]
        }
      ]
    },
    {
      "cell_type": "code",
      "source": [
        "# Q.6 Write a generator function in Python that yields the powers of 2 up to a given exponent?\n",
        "def powers_of_two(max_exponent):\n",
        "    for exponent in range(max_exponent + 1):\n",
        "        yield 2 ** exponent\n",
        "# Create the generator\n",
        "power_gen = powers_of_two(5)\n",
        "\n",
        "# Iterate through the generator and print each power of 2\n",
        "for power in power_gen:\n",
        "    print(power)\n"
      ],
      "metadata": {
        "colab": {
          "base_uri": "https://localhost:8080/"
        },
        "id": "VX-NtudNO89H",
        "outputId": "f18a9edf-7fb7-4342-e784-63dbcb84ce8e"
      },
      "execution_count": 9,
      "outputs": [
        {
          "output_type": "stream",
          "name": "stdout",
          "text": [
            "1\n",
            "2\n",
            "4\n",
            "8\n",
            "16\n",
            "32\n"
          ]
        }
      ]
    },
    {
      "cell_type": "code",
      "source": [
        "# Q.7 Implement a generator function that reads a file line by line and yields each line as a string?\n",
        "def read_file_line_by_line(file_path):\n",
        "    with open(file_path, 'r') as file:\n",
        "        for line in file:\n",
        "            yield line.rstrip('\\n')\n",
        "file_path = 'XYZ.txt'\n",
        "for line in read_file_line_by_line(file_path):\n",
        "    print(line)\n"
      ],
      "metadata": {
        "id": "pxh8zKYYT7UJ"
      },
      "execution_count": null,
      "outputs": []
    },
    {
      "cell_type": "code",
      "source": [
        "# Q.8  Use a lambda function in Python to sort a list of tuples based on the second element of each tuple?\n",
        "# Sample list of tuples\n",
        "data = [('apple', 2), ('banana', 1), ('cherry', 3)]\n",
        "\n",
        "# Sort the list based on the second element of each tuple\n",
        "sorted_data = sorted(data, key=lambda x: x[1])\n",
        "\n",
        "print(sorted_data)\n"
      ],
      "metadata": {
        "colab": {
          "base_uri": "https://localhost:8080/"
        },
        "id": "YlxWMTFmUcy0",
        "outputId": "d9a70a69-9e0d-4415-962c-45b75fdf731a"
      },
      "execution_count": 11,
      "outputs": [
        {
          "output_type": "stream",
          "name": "stdout",
          "text": [
            "[('banana', 1), ('apple', 2), ('cherry', 3)]\n"
          ]
        }
      ]
    },
    {
      "cell_type": "code",
      "source": [
        "# Q.9  Write a Python program that uses `map()` to convert a list of temperatures from Celsius to Fahrenheit?\n",
        "# List of temperatures in Celsius\n",
        "celsius_temperatures = [0, 20, 37, 100]\n",
        "\n",
        "# Function to convert Celsius to Fahrenheit\n",
        "def celsius_to_fahrenheit(celsius):\n",
        "    return (celsius * 9/5) + 32\n",
        "\n",
        "# Use map() to apply the conversion to each element in the list\n",
        "fahrenheit_temperatures = list(map(celsius_to_fahrenheit, celsius_temperatures))\n",
        "\n",
        "# Print the list of temperatures in Fahrenheit\n",
        "print(fahrenheit_temperatures)\n"
      ],
      "metadata": {
        "colab": {
          "base_uri": "https://localhost:8080/"
        },
        "id": "NaZ3j72fUyDP",
        "outputId": "3aae7edf-cf7b-40f9-b46a-a24cc6cae2ad"
      },
      "execution_count": 12,
      "outputs": [
        {
          "output_type": "stream",
          "name": "stdout",
          "text": [
            "[32.0, 68.0, 98.6, 212.0]\n"
          ]
        }
      ]
    },
    {
      "cell_type": "code",
      "source": [
        "# Q.10  Create a Python program that uses `filter()` to remove all the vowels from a given string?\n",
        "def remove_vowels(input_string):\n",
        "    vowels = 'aeiouAEIOU'\n",
        "    return ''.join(filter(lambda char: char not in vowels, input_string))\n",
        "\n",
        "input_str = \"Hello, World!\"\n",
        "result = remove_vowels(input_str)\n",
        "print(result)\n"
      ],
      "metadata": {
        "colab": {
          "base_uri": "https://localhost:8080/"
        },
        "id": "GzyLR6nQVHgq",
        "outputId": "d1af5e3f-12c1-4626-c665-d341302dbd10"
      },
      "execution_count": 13,
      "outputs": [
        {
          "output_type": "stream",
          "name": "stdout",
          "text": [
            "Hll, Wrld!\n"
          ]
        }
      ]
    },
    {
      "cell_type": "code",
      "source": [
        "# Ans -11\n",
        "orders = [\n",
        "    [34587, \"Learning Python, Mark Lutz\", 4, 40.95],\n",
        "    [98762, \"Programming Python, Mark Lutz\", 5, 56.80],\n",
        "    [77226, \"Head First Python, Paul Barry\", 3, 32.95],\n",
        "    [88112, \"Einführung in Python3, Bernd Klein\", 3, 24.99]\n",
        "]\n",
        "\n",
        "# Using lambda and map\n",
        "result = list(map(\n",
        "    lambda x: (x[0], round(x[2] * x[3] + (10 if x[2] * x[3] < 100 else 0), 2)),\n",
        "    orders\n",
        "))\n",
        "\n",
        "print(result)"
      ],
      "metadata": {
        "colab": {
          "base_uri": "https://localhost:8080/"
        },
        "id": "LKShxykZVdeD",
        "outputId": "465d2f6e-70ae-4af8-924b-f288538ef136"
      },
      "execution_count": 14,
      "outputs": [
        {
          "output_type": "stream",
          "name": "stdout",
          "text": [
            "[(34587, 163.8), (98762, 284.0), (77226, 108.85), (88112, 84.97)]\n"
          ]
        }
      ]
    }
  ]
}